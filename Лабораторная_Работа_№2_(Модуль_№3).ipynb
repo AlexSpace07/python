{
  "nbformat": 4,
  "nbformat_minor": 0,
  "metadata": {
    "colab": {
      "provenance": [],
      "include_colab_link": true
    },
    "kernelspec": {
      "name": "python3",
      "display_name": "Python 3"
    },
    "language_info": {
      "name": "python"
    }
  },
  "cells": [
    {
      "cell_type": "markdown",
      "metadata": {
        "id": "view-in-github",
        "colab_type": "text"
      },
      "source": [
        "<a href=\"https://colab.research.google.com/github/AlexSpace07/python/blob/main/%D0%9B%D0%B0%D0%B1%D0%BE%D1%80%D0%B0%D1%82%D0%BE%D1%80%D0%BD%D0%B0%D1%8F_%D0%A0%D0%B0%D0%B1%D0%BE%D1%82%D0%B0_%E2%84%962_(%D0%9C%D0%BE%D0%B4%D1%83%D0%BB%D1%8C_%E2%84%963).ipynb\" target=\"_parent\"><img src=\"https://colab.research.google.com/assets/colab-badge.svg\" alt=\"Open In Colab\"/></a>"
      ]
    },
    {
      "cell_type": "markdown",
      "source": [
        "# Лабораторная работа по теме: \"Введение в анализ данных. Операции над векторами и матрицами в NumPy\""
      ],
      "metadata": {
        "id": "kzDCcIut8VVk"
      }
    },
    {
      "cell_type": "code",
      "source": [
        "import pandas as pd\n",
        "import numpy as np"
      ],
      "metadata": {
        "id": "grgSWBOW8Y__"
      },
      "execution_count": null,
      "outputs": []
    },
    {
      "cell_type": "markdown",
      "source": [
        "### Задание №1"
      ],
      "metadata": {
        "id": "DxzNNZoJ8fuZ"
      }
    },
    {
      "cell_type": "markdown",
      "source": [
        "Для заданий этого занятия требуется загрузить датасет 'AmazonBooks.xlsx' ([страница датасета на Kaggle](https://www.kaggle.com/datasets/palanjali007/amazons-top-50-bestselling-novels-20092020?select=AmazonBooks.xlsx)). Датасет можно загрузить из директории datasets. Нужные данные находятся на листе 'Sheet1'. В датасете содержатся данные о самых продаваемых книгах на платформе Amazon с 2009 по 2020 год. Выведите последние 10 строк в данном датасете."
      ],
      "metadata": {
        "id": "n3cJds5r8oyy"
      }
    },
    {
      "cell_type": "code",
      "source": [
        "# Испортируем библиотеку\n",
        "import kagglehub\n",
        "\n",
        "# Загрузка актуальной версии датасета\n",
        "path = kagglehub.dataset_download(\"palanjali007/amazons-top-50-bestselling-novels-20092020\")\n",
        "\n",
        "# Вывод пути к актуальной версии датасета\n",
        "print(\"Путь к актуальной версии датасета:\", path)"
      ],
      "metadata": {
        "colab": {
          "base_uri": "https://localhost:8080/"
        },
        "id": "I6ULD-D_-OE2",
        "outputId": "75c5a3c4-8ba8-4065-aea8-deb2634cd7ad"
      },
      "execution_count": null,
      "outputs": [
        {
          "output_type": "stream",
          "name": "stdout",
          "text": [
            "Путь к актуальной версии датасета: /root/.cache/kagglehub/datasets/palanjali007/amazons-top-50-bestselling-novels-20092020/versions/2\n"
          ]
        }
      ]
    },
    {
      "cell_type": "code",
      "source": [
        "# Чтение локального файла датасета\n",
        "df = pd.read_excel('/root/.cache/kagglehub/datasets/palanjali007/amazons-top-50-bestselling-novels-20092020/versions/2/AmazonBooks.xlsx', sheet_name='Sheet1')\n",
        "\n",
        "# Вывод последних 10 строк датасета\n",
        "print(df.tail(10))"
      ],
      "metadata": {
        "colab": {
          "base_uri": "https://localhost:8080/"
        },
        "id": "6SYjwIZ2-w2U",
        "outputId": "76bae6be-5e36-422d-e0c7-b6e8f1954171"
      },
      "execution_count": null,
      "outputs": [
        {
          "output_type": "stream",
          "name": "stdout",
          "text": [
            "                                                  Name            Author  \\\n",
            "590                              What Should Danny Do?         Adir Levy   \n",
            "591                   Wacky Waving Inflatable Tube Guy    Conor Riordan    \n",
            "592                                The Silent Patient   Alex Michaelides   \n",
            "593               The Big Book of Silly Jokes for Kids   Carole P. Roman   \n",
            "594                           Chicka Chicka Boom Boom    Bill Martin Jr.   \n",
            "595  Live Free Or Die: America (and the World) on t...      Sean Hannity   \n",
            "596                                 Burn After Writing      Sharon Jones   \n",
            "597  Get Out of Your Head: Stopping the Spiral of T...      Jennie Allen   \n",
            "598  Human Body Activity Book for Kids: Hands-On Fu...      Katie Stokes   \n",
            "599                                 Educated: A Memoir    Tara Westover    \n",
            "\n",
            "     User Rating  Reviews  Price  Year        Genre  \n",
            "590          4.8    14705     13  2020      Fiction  \n",
            "591          4.0    25510      7  2020      Fiction  \n",
            "592          4.5    61060     15  2020      Fiction  \n",
            "593          4.7    11668      9  2020      Fiction  \n",
            "594          4.9    20705      4  2020      Fiction  \n",
            "595          4.8    20153     15  2020  Non Fiction  \n",
            "596          4.6    26423      8  2020  Non Fiction  \n",
            "597          4.7    12879     14  2020  Non Fiction  \n",
            "598          4.7    14128      5  2020  Non Fiction  \n",
            "599          4.7    45351     11  2020  Non Fiction  \n"
          ]
        }
      ]
    },
    {
      "cell_type": "markdown",
      "source": [
        "### Задание №2"
      ],
      "metadata": {
        "id": "ZJKZdK0C-Noo"
      }
    },
    {
      "cell_type": "markdown",
      "source": [
        "Отсортируйте датафрейм в порядке возрастания года (year)."
      ],
      "metadata": {
        "id": "wkdoHqDS--er"
      }
    },
    {
      "cell_type": "code",
      "source": [
        "# Сортировка по возрастанию года\n",
        "df_sorted = df.sort_values('Year', ascending=True)\n",
        "\n",
        "# Вывод отсортированного датафрейма\n",
        "print(\"Данные, отсортированные по году (по возрастанию):\")\n",
        "print(df_sorted)"
      ],
      "metadata": {
        "colab": {
          "base_uri": "https://localhost:8080/"
        },
        "id": "VrWF4zis_Ofe",
        "outputId": "b09febf1-8d5a-4fa8-b484-49f399b1b059"
      },
      "execution_count": null,
      "outputs": [
        {
          "output_type": "stream",
          "name": "stdout",
          "text": [
            "Данные, отсортированные по году (по возрастанию):\n",
            "                                                  Name           Author  \\\n",
            "14   Act Like a Lady, Think Like a Man: What Men Re...     Steve Harvey   \n",
            "25   Arguing with Idiots: How to Stop Small Minds a...       Glenn Beck   \n",
            "513               Twilight (The Twilight Saga, Book 1)  Stephenie Meyer   \n",
            "524                                           Watchmen       Alan Moore   \n",
            "520                            Under the Dome: A Novel     Stephen King   \n",
            "..                                                 ...              ...   \n",
            "597  Get Out of Your Head: Stopping the Spiral of T...     Jennie Allen   \n",
            "598  Human Body Activity Book for Kids: Hands-On Fu...     Katie Stokes   \n",
            "595  Live Free Or Die: America (and the World) on t...     Sean Hannity   \n",
            "599                                 Educated: A Memoir   Tara Westover    \n",
            "591                   Wacky Waving Inflatable Tube Guy   Conor Riordan    \n",
            "\n",
            "     User Rating  Reviews  Price  Year        Genre  \n",
            "14           4.6     5013     17  2009  Non Fiction  \n",
            "25           4.6      798      5  2009  Non Fiction  \n",
            "513          4.7    11676      9  2009      Fiction  \n",
            "524          4.8     3829     42  2009      Fiction  \n",
            "520          4.3     6740     20  2009      Fiction  \n",
            "..           ...      ...    ...   ...          ...  \n",
            "597          4.7    12879     14  2020  Non Fiction  \n",
            "598          4.7    14128      5  2020  Non Fiction  \n",
            "595          4.8    20153     15  2020  Non Fiction  \n",
            "599          4.7    45351     11  2020  Non Fiction  \n",
            "591          4.0    25510      7  2020      Fiction  \n",
            "\n",
            "[600 rows x 7 columns]\n"
          ]
        }
      ]
    },
    {
      "cell_type": "markdown",
      "source": [
        "### Задание №3"
      ],
      "metadata": {
        "id": "LSTIUJ53_a1U"
      }
    },
    {
      "cell_type": "markdown",
      "source": [
        "Получите срез данных, содержащий в себе только книги дороже 20$ (Price>20)."
      ],
      "metadata": {
        "id": "l8dqq8c6_lb_"
      }
    },
    {
      "cell_type": "code",
      "source": [
        "# Фильтрация книг дороже 20$\n",
        "expensive_books = df[df['Price'] > 20]\n",
        "\n",
        "# Вывод результата\n",
        "print(\"Книги дороже 20$:\")\n",
        "print(expensive_books)"
      ],
      "metadata": {
        "colab": {
          "base_uri": "https://localhost:8080/"
        },
        "id": "3klAX-y6_k_e",
        "outputId": "7fb1852a-91b4-498f-cb2a-ad2e0d36474a"
      },
      "execution_count": null,
      "outputs": [
        {
          "output_type": "stream",
          "name": "stdout",
          "text": [
            "Книги дороже 20$:\n",
            "                                                  Name               Author  \\\n",
            "1                                    11/22/63: A Novel         Stephen King   \n",
            "6    A Game of Thrones / A Clash of Kings / A Storm...  George R. R. Martin   \n",
            "12                             A Stolen Life: A Memoir        Jaycee Dugard   \n",
            "30   Barefoot Contessa Foolproof: Recipes You Can T...           Ina Garten   \n",
            "31   Barefoot Contessa, How Easy Is That?: Fabulous...           Ina Garten   \n",
            "..                                                 ...                  ...   \n",
            "510  Tools of Titans: The Tactics, Routines, and Ha...      Timothy Ferriss   \n",
            "511  Towers of Midnight (Wheel of Time, Book Thirteen)        Robert Jordan   \n",
            "524                                           Watchmen           Alan Moore   \n",
            "550                                    A Promised Land         Barack Obama   \n",
            "584  Modern Comfort Food: A Barefoot Contessa Cookbook           Ina Garten   \n",
            "\n",
            "     User Rating  Reviews  Price  Year        Genre  \n",
            "1            4.6     2052     22  2011      Fiction  \n",
            "6            4.7    19735     30  2014      Fiction  \n",
            "12           4.6     4149     32  2011  Non Fiction  \n",
            "30           4.8     1296     24  2012  Non Fiction  \n",
            "31           4.7      615     21  2010  Non Fiction  \n",
            "..           ...      ...    ...   ...          ...  \n",
            "510          4.6     4360     21  2017  Non Fiction  \n",
            "511          4.8     2282     21  2010      Fiction  \n",
            "524          4.8     3829     42  2009      Fiction  \n",
            "550          4.9    83212     23  2020  Non Fiction  \n",
            "584          4.8    11769     21  2020  Non Fiction  \n",
            "\n",
            "[70 rows x 7 columns]\n"
          ]
        }
      ]
    },
    {
      "cell_type": "markdown",
      "source": [
        "### Задание №4"
      ],
      "metadata": {
        "id": "w170O_p6__Lg"
      }
    },
    {
      "cell_type": "markdown",
      "source": [
        "Получите срез данных, содержащий только название книги, рейтинг пользователей и количество отзывов. (Name, User Rating, Reviews)"
      ],
      "metadata": {
        "id": "qmSSFY-TAQf0"
      }
    },
    {
      "cell_type": "code",
      "source": [
        "# Чтение данных из необходимых столбцов датасета\n",
        "selected_columns = df[['Name', 'User Rating', 'Reviews']]\n",
        "\n",
        "# Вывод результата\n",
        "print(\"Срез данных с названием, рейтингом и отзывами:\")\n",
        "print(selected_columns)"
      ],
      "metadata": {
        "colab": {
          "base_uri": "https://localhost:8080/"
        },
        "id": "5YMmpy0DAm6_",
        "outputId": "938fa6fe-c28a-4f7d-b3ec-4e44283eaba4"
      },
      "execution_count": null,
      "outputs": [
        {
          "output_type": "stream",
          "name": "stdout",
          "text": [
            "Срез данных с названием, рейтингом и отзывами:\n",
            "                                                  Name  User Rating  Reviews\n",
            "0                        10-Day Green Smoothie Cleanse          4.7    17350\n",
            "1                                    11/22/63: A Novel          4.6     2052\n",
            "2              12 Rules for Life: An Antidote to Chaos          4.7    18979\n",
            "3                               1984 (Signet Classics)          4.7    21424\n",
            "4    5,000 Awesome Facts (About Everything!) (Natio...          4.8     7665\n",
            "..                                                 ...          ...      ...\n",
            "595  Live Free Or Die: America (and the World) on t...          4.8    20153\n",
            "596                                 Burn After Writing          4.6    26423\n",
            "597  Get Out of Your Head: Stopping the Spiral of T...          4.7    12879\n",
            "598  Human Body Activity Book for Kids: Hands-On Fu...          4.7    14128\n",
            "599                                 Educated: A Memoir          4.7    45351\n",
            "\n",
            "[600 rows x 3 columns]\n"
          ]
        }
      ]
    },
    {
      "cell_type": "markdown",
      "source": [
        "### Задание №5*"
      ],
      "metadata": {
        "id": "c28ziJC8A-Qg"
      }
    },
    {
      "cell_type": "markdown",
      "source": [
        "Выведите список (в виде объекта list) уникальных авторов за 2011 год, чье количество отзывовов хотя бы на одну книгу было больше 75 квантиля."
      ],
      "metadata": {
        "id": "9Qa9eavTBHfr"
      }
    },
    {
      "cell_type": "code",
      "source": [
        "# Фильтрация данных за 2011 год\n",
        "df_2011 = df[df['Year'] == 2011]\n",
        "\n",
        "# Вычисление 75-го квантиля для отзывов за 2011 год\n",
        "quantile_75 = df_2011['Reviews'].quantile(0.75)\n",
        "\n",
        "# Фильтрация авторов с количеством отзывов > 75 квантиля\n",
        "authors_filtered = df_2011[df_2011['Reviews'] > quantile_75]['Author']\n",
        "\n",
        "# Получение уникальных авторов и преобразование в список\n",
        "unique_authors = authors_filtered.unique().tolist()\n",
        "\n",
        "# Вывод результата\n",
        "print(\"Уникальные авторы 2011 года с количеством отзывов больше 75 квантиля:\")\n",
        "print(unique_authors)"
      ],
      "metadata": {
        "colab": {
          "base_uri": "https://localhost:8080/"
        },
        "id": "q22Fun2dBH00",
        "outputId": "f83443b8-8f39-4805-a439-949ce299fb6f"
      },
      "execution_count": null,
      "outputs": [
        {
          "output_type": "stream",
          "name": "stdout",
          "text": [
            "Уникальные авторы 2011 года с количеством отзывов больше 75 квантиля:\n",
            "['George R. R. Martin', 'Suzanne Collins', 'Adam Mansbach', 'Todd Burpo', 'Sarah Young', 'Garth Stein', 'Kathryn Stockett', 'Daniel Kahneman', 'Laura Hillenbrand']\n"
          ]
        }
      ]
    },
    {
      "cell_type": "markdown",
      "source": [
        "### Задание №6"
      ],
      "metadata": {
        "id": "L7GaOpUnCZGy"
      }
    },
    {
      "cell_type": "markdown",
      "source": [
        "Создайте столбец genre_categories содержащий данные из столбца Genre, преобразованным в тип category, а затем создайте столбец genre_codes, содержащий коды категорий."
      ],
      "metadata": {
        "id": "Dbii7AUHClCw"
      }
    },
    {
      "cell_type": "code",
      "source": [
        "# Создаем столбец genre_categories с типом category\n",
        "df['genre_categories'] = df['Genre'].astype('category')\n",
        "\n",
        "# Создаем столбец genre_codes с кодами категорий\n",
        "df['genre_codes'] = df['genre_categories'].cat.codes\n",
        "\n",
        "# Выводим результат\n",
        "print(\"Добавленные столбцы:\")\n",
        "print(df[['Genre', 'genre_categories', 'genre_codes']].head())\n",
        "\n",
        "# Дополнительная информация о категориях\n",
        "print(\"Соответствие кодов категорий:\")\n",
        "print(df['genre_categories'].cat.categories)"
      ],
      "metadata": {
        "colab": {
          "base_uri": "https://localhost:8080/"
        },
        "id": "yh4WU-zsCksV",
        "outputId": "74478591-9440-4c52-d3fb-c475ac2a80a6"
      },
      "execution_count": null,
      "outputs": [
        {
          "output_type": "stream",
          "name": "stdout",
          "text": [
            "Добавленные столбцы:\n",
            "         Genre genre_categories  genre_codes\n",
            "0  Non Fiction      Non Fiction            1\n",
            "1      Fiction          Fiction            0\n",
            "2  Non Fiction      Non Fiction            1\n",
            "3      Fiction          Fiction            0\n",
            "4  Non Fiction      Non Fiction            1\n",
            "Соответствие кодов категорий:\n",
            "Index(['Fiction', 'Non Fiction'], dtype='object')\n"
          ]
        }
      ]
    }
  ]
}